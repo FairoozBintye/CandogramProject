{
 "cells": [
  {
   "cell_type": "code",
   "execution_count": 1,
   "id": "78a9ca24-ac4a-4398-be19-745d11e0a50d",
   "metadata": {},
   "outputs": [],
   "source": [
    "import csv"
   ]
  },
  {
   "cell_type": "code",
   "execution_count": 2,
   "id": "03a78a90-2148-4b50-928a-e35a756a39e0",
   "metadata": {},
   "outputs": [],
   "source": [
    "import re\n",
    "from bs4 import BeautifulSoup"
   ]
  },
  {
   "cell_type": "code",
   "execution_count": 3,
   "id": "fd351e22-78d1-40b7-909c-082f3ed5e29f",
   "metadata": {},
   "outputs": [],
   "source": [
    "def remove_html_tags(text):\n",
    "    # check if the text contains HTML markers\n",
    "    if '<' in text or '>' in text:\n",
    "        # if so, remove HTML tags\n",
    "        soup = BeautifulSoup(text, 'html.parser')\n",
    "        return soup.get_text()\n",
    "    else:\n",
    "        # else return the input text\n",
    "        return text"
   ]
  },
  {
   "cell_type": "code",
   "execution_count": 4,
   "id": "59320401-7912-4a6d-ae4d-229bade66299",
   "metadata": {},
   "outputs": [],
   "source": [
    "# removes if contains http[s]\n",
    "def remove_urls(text):\n",
    "    return re.sub(r'http\\S+', '', text)\n"
   ]
  },
  {
   "cell_type": "code",
   "execution_count": 5,
   "id": "9e6c6055-f31e-431d-b2b1-085c591c60b0",
   "metadata": {},
   "outputs": [],
   "source": [
    "# input/output file names\n",
    "input_file = 'CandogramData/Assistant.csv'\n",
    "output_file = 'CandogramData/CLEANED_Assistant.csv'"
   ]
  },
  {
   "cell_type": "code",
   "execution_count": 7,
   "id": "c339a803-025b-4e1d-a243-cfa8a44486dd",
   "metadata": {},
   "outputs": [
    {
     "name": "stdout",
     "output_type": "stream",
     "text": [
      "Done\n"
     ]
    }
   ],
   "source": [
    "# reads input file, writes to output file w/ utf-8 encoding & empty newline for consistency\n",
    "with open(input_file, 'r', encoding='utf-8') as infile, open(output_file, 'w', encoding='utf-8', newline='') as outfile:\n",
    "    reader = csv.reader(infile)\n",
    "    writer = csv.writer(outfile)\n",
    "\n",
    "    for row in reader:\n",
    "        cleaned_text = remove_urls(remove_html_tags(row[3]))\n",
    "        writer.writerow([row[0], cleaned_text])\n",
    "\n",
    "infile.close()\n",
    "outfile.close()\n",
    "\n",
    "print ('Done')\n",
    "\n",
    " \n",
    "\n",
    "    \n",
    "    # cleans data rows, first row as a potential header\n",
    "    \n",
    "    \n",
    "    # for row_idx, row in enumerate(reader):\n",
    "    #     cleaned_row = []\n",
    "    #     for column in row:\n",
    "    #         # clean HTML tags/remove URLs\n",
    "    #         cleaned_text = remove_urls(remove_html_tags(column))\n",
    "    #         cleaned_row.append(cleaned_text)\n",
    "\n",
    "    #     if row_idx == 0:\n",
    "    #         # if first row, write as a header (plain string)\n",
    "    #         writer.writerow([str(header) for header in cleaned_row])\n",
    "    #     else:\n",
    "    #         # otherwise, write data\n",
    "    #         writer.writerow(cleaned_row)"
   ]
  },
  {
   "cell_type": "code",
   "execution_count": 18,
   "id": "085c9958-1f71-4c9f-b08d-54cddd0436ff",
   "metadata": {},
   "outputs": [
    {
     "name": "stdout",
     "output_type": "stream",
     "text": [
      "Data has been cleaned and saved to CandogramData/CLEANED_Assistant.csv\n"
     ]
    }
   ],
   "source": [
    "print(f'Data has been cleaned and saved to {output_file}')"
   ]
  },
  {
   "cell_type": "code",
   "execution_count": 2,
   "id": "895c01b2-7293-46be-825d-ecfe92b8ba67",
   "metadata": {},
   "outputs": [],
   "source": [
    "input_file = 'CandogramData/CLEANED_Assistant.csv'\n",
    "output_file = 'CandogramData/job_descriptions.csv'"
   ]
  },
  {
   "cell_type": "code",
   "execution_count": 4,
   "id": "c330cbc9-2cb4-451a-b1c9-f984617a03be",
   "metadata": {},
   "outputs": [],
   "source": [
    "num_rows_to_extract = 500\n",
    "\n",
    "job_descriptions = []\n",
    "\n",
    "with open(input_file, 'r', encoding='utf-8') as csv_file:\n",
    "    reader = csv.DictReader(csv_file)\n",
    "    \n",
    "    for idx, row in enumerate(reader):\n",
    "        job_description = row['JobDescription']\n",
    "        req_id = row['RequisitionID']\n",
    "        job_descriptions.append([req_id, job_description])\n",
    "\n",
    "        # Break the loop after extracting the desired number of rows\n",
    "        if idx == num_rows_to_extract - 1:\n",
    "            break\n",
    "\n",
    "# Write the extracted job descriptions to a new CSV file\n",
    "with open(output_file, 'w', newline='', encoding='utf-8') as csv_file:\n",
    "    writer = csv.writer(csv_file)\n",
    "    writer.writerow(['RequisitionID', 'JobDescriptions'])\n",
    "    writer.writerows(job_descriptions)"
   ]
  },
  {
   "cell_type": "code",
   "execution_count": 22,
   "id": "718e3613-0717-46b7-b418-850e14cd514d",
   "metadata": {},
   "outputs": [],
   "source": [
    "import pandas as pd\n",
    "# Read the CSV file\n",
    "df = pd.read_csv('CandogramData/CLEANED_Assistant.csv',low_memory=False) \n",
    "\n",
    "# Extract job descriptions\n",
    "job_descriptions = df['JobDescription'].tolist()[:10]"
   ]
  },
  {
   "cell_type": "code",
   "execution_count": 16,
   "id": "f27a5232-df0b-4d24-82e9-be9a2561b020",
   "metadata": {},
   "outputs": [
    {
     "name": "stdout",
     "output_type": "stream",
     "text": [
      "Job Posting 1:\n",
      "Job Summary:   \\n\\n Assist the surgeon during surgery. Ensure the availability and functioning of surgical equipment used in surgical procedures. Transport patient to and from operating room, preps patient prior to surgery, serves as first or second assistant to the surgeon during the surgical procedure. \\n\\nMinimum Qualifications  : \\n\\n Education: Must meet one of the following:  RN who has completed a Surgical First Assist program (certification is preferred) or Nurse Practitioner who has completed a Surgical First Assist program.\\n\\n Experience:   Must be certified tech, RN or NP and must be able to perform Endoscopic Vein Harvest.  \\n\\n Clinical experience as a surgical assistant preferred. \\n\\n Licensure/Certification:   Certified surgical assistant and clinical licensures as appropriate with the above Education. Must have a current American Heart Association BLS for Healthcare Provider Card. \\n\\n Primary Source Verification (if applicable):   RN or NP: SC Labor, Licensing and Regulation (LLR):  RN can include compact RN state licensing board. Surgical Assistant-  \\n\\n Knowledge/Skills:   Extensive knowledge of the clinical aspects of surgery. Knowledge of anatomy and physiology. Skilled in preparing and maintaining effective working relationships with patients, medical staff and co-workers. Ability to react calmly and effectively in emergency situations. Knowledgeable in basic nursing care, as well as scope and responsibility of Advanced Practice Nurse. Knowledge of the professional nursing theory and practice to give and evaluate patient care. Knowledge of organizational policies and procedures to administer patient care. Knowledge of common safety hazards and precautions to establish a safe work environment. Skill in applying and modifying the principles, methods and techniques of professional nursing to provide on-going patient care. Skill in identifying problems and recommending solutions. Skill in preparing and maintaining records and writing reports. Skill in establishing and maintaining effective working relationships with patients, hospital, medical staff and the public. Ability to analyze situations and apply critical thinking. Ability to communicate clearly. Ability to react calmly and effectively in emergency situations.  \\n\\n Other:   Ability to work under stressful conditions and/or irregular working hours. \\n\\n Contacts  :   Surgical team including surgeons, anesthesiologists, nurses, scrub techs and perfusionists. Some interaction with other health care providers. Minimal verbal interaction with patient and families.  \n",
      "--------------------------------------------------\n",
      "\n",
      "Job Posting 2:\n",
      "Current Employees: \\n\\n If you are a current Staff, Faculty or Temporary employee at the University of Miami, please click here (  to log in to Workday to use the internal application process. To learn how to apply for a faculty or staff position using the Career worklet, please review this  tip sheet  (  . \\n\\nUp to $5,000 Sign-on Bonus\\n\\nShift: days, evenings, nights (depending on availability) \\n\\nWork Location: University of Miami UHealth Hospital \\n\\nThe University of Miami Hospital has an exciting opportunity for a Certified Nursing Assistant.\\n\\n+ The Certified Nursing Assistant assists in patient care throughout nursing areas.  \\n\\n+ Provides the services of an Observer for any patient on a patient care unit who has been assessed to require constant observation in order to maximize his/her safety.\\n\\n+ Performs general receptionist and clerical duties in order to facilitate efficient functioning of the nursing unit. Implements patient care plan established by the RN to meet the patients' needs.\\n\\n+ Alerts appropriate RN team members as emergencies arise, or when changes in patient status are noted.\\n\\nEducation:\\n\\nHigh school diploma or equivalent. Graduate from an accredited school of Certified Nursing Assistant\\n\\nCertification and Licensing:\\n\\n Valid Florida Certified Nursing Assistant license, BLS certification required \\n\\nExperience:\\n\\nMinimum 3 years of relevant experience\\n\\nThe University of Miami offers competitive salaries and a comprehensive benefits package including medical, dental, tuition remission and more.\\n\\nUHealth-University of Miami Health System, South Florida's only university-based health system, provides leading-edge patient care powered by the ground breaking research and medical education at the Miller School of Medicine. As an academic medical center, we are proud to serve South Florida, Latin America and the Caribbean. Our physicians represent more than 100 specialties and sub-specialties, and have more than one million patient encounters each year. Our tradition of excellence has earned worldwide recognition for outstanding teaching, research and patient care. We're the challenge you've been looking for.\\n\\nPatient safety is a top priority. As a result, during the Influenza (the flu) season (September through April), the University Of Miami Miller School Of Medicine requires all employees who provide ongoing services to patients, work in a location (all Hospitals and clinics) where patient care is provided, or work in patient care or clinical care areas, to have an annual influenza vaccination. Failure to meet this requirement will result in rescinding or termination of employment.\\n\\n The University of Miami is an Equal Opportunity Employer - Females/Minorities/Protected Veterans/Individuals with Disabilities are encouraged to apply. Applicants and employees are protected from discrimination based on certain categories protected by Federal law. Click here (  for additional information.\\n\\nJob Status:\\n\\nFull time\\n\\nEmployee Type:\\n\\nStaff\\n\\nPay Grade:\\n\\nU4\\n\\nThe mission of the University of Miami is to transform lives through education, research, innovation, and service. A vibrant and diverse academic and healthcare community, the University of Miami and the University of Miami Health System (UHealth) have rapidly progressed to become one of the nation's top research universities and academic medical centers in the nation.\\n\\nThe University comprises 12 schools and colleges serving undergraduate and graduate students in more than 350 majors and programs. Visit welcome.miami.edu/about-um to learn more about our points of pride.\\n\\nThe University ranks No. 55 on U.S. News & World Report's 2022 Best Colleges list and ranked No. 49 in the 2022 Wall Street Journal/Times Higher Education College Rankings.\\n\\nBascom Palmer Eye Institute is ranked the #1 eye hospital in the USA and offers some of the nation's premiere eye doctors to treat every eye condition for adults. Sylvester Comprehensive Cancer, part of the Miller School of Medicine, received the prestigious National Cancer Institute designation in 2019.\\n\\nThe University of Miami and UHealth have also ranked among the Forbes Best Employers and Best Employers for Women on several occasions, most recently in 2022.\\n\\nTransforming lives\\n\\nWith more than 17,000 faculty and staff, the University strives for excellence, and is driven by a powerful mission to transform and impact the lives of its students, patients, members of the community, and people across the globe.\\n\\nThe University is committed to fostering a culture of belonging, where everyone feels valued and has the opportunity to add value. Through values of Diversity, Integrity, Responsibility, Excellence, Compassion, Creativity, and Teamwork (DIRECCT) the U community works together to create an environment driven by purpose, excellence, community, and service.  \n",
      "--------------------------------------------------\n",
      "\n",
      "Job Posting 3:\n",
      "(PT) Food Pantry Assistant  \\n\\n  Print  (  \\n\\n  Apply  \\n\\n   \\n\\n (PT) Food Pantry Assistant \\n\\n Salary \\n\\n$17.00 Hourly\\n\\n Location \\n\\nMays Landing/Cape May & Atlantic City Campus, NJ\\n\\nJob Type\\n\\nPart-Time\\n\\nDivision\\n\\nInstitutional Effectiveness\\n\\nJob Number\\n\\n202200099\\n\\nClosing\\n\\n Continuous \\n\\n+  Description \\n\\n+  Benefits \\n\\nDescription\\n\\n  Grant funded position scheduled to expire on or before June 30, 2023 \\n\\n $17 per hour up to 26 hours per week  \\n\\nExamples of Duties\\n\\nDuties and Responsibilities:  \\n\\n+ Assists with organizational duties supporting the food pantry\\n\\n+  Assists with the daily operation of the food pantry \\n\\n+ Implements and maintains new food tracking software for all three campus food pantries\\n\\n+ Creates weekly food pantry usage reports and maintains accurate records \\n\\n+ Participates in and facilitates educational and outreach events for the food pantry \\n\\n+ Assists with coordinating delivery, organization, and distribution of supplies \\n\\n+ Performs clerical duties such as data entry, scanning/imaging, and answering phones \\n\\n+ Assists in producing orders, and organizes marketing, educational and other materials\\n\\n+ Promotes and educate students on our college's food pantries/food insecurities \\n\\n+ Performs related duties as assigned\\n\\nTypical Qualifications\\n\\nEducation:\\n\\n+ High School Diploma or GED \\n\\nExperience: \\n\\n+ Computer literacy and typing skills \\n\\n+ Knowledge of Word, Excel and Access preferred \\n\\n+ Knowledge of Canva preferred \\n\\nCompetencies and Skills: \\n\\n+ Ability to work with diverse populations \\n\\n+ Must be punctual, conscientious and dependable \\n\\n+ Customer service and communication skills \\n\\n+ Ability to maintain confidentiality \\n\\n+ Attention to detail ? Strong organization skills \\n\\n+ Ability to work independently\\n\\nSupplemental Information\\n\\nTerms of Employment: \\n\\n+ This position may require flexible scheduling to include evenings and weekends and duties at any Atlantic Cape location. \\n\\n+ Valid New Jersey driver's license\\n\\nPaid sick leave in accordance with NJ Sick Leave Law\\n\\nDefined Contribution Retirement Program (DCRP) ( \\n\\nEligible part-time employees will be enrolled into the DCRP (Defined Contribution Retirement Plan) pension ( . Employees contribute 5% of their base salary and the college contributes 3% of base salary. Investment options are managed through Prudential Retirement. Life insurance benefits through DCRP are payable to the beneficiary at 1.5X the member's salary.\\n\\nAgency\\n\\nAtlantic Cape Community College\\n\\nAddress\\n\\n  5100 Black Horse Pike  Mays Landing, New Jersey, 08330  \\n\\nPhone\\n\\n 609-343-5611  609-343-5108 \\n\\nWebsite\\n\\n    \\n\\n  Apply  \\n\\n Please verify your email address Verify Email  \n",
      "--------------------------------------------------\n",
      "\n",
      "Job Posting 4:\n",
      "Job Description\\n\\n Preschool Teacher Assistant -Part Time \\n\\n Fredericksburg, VA \\n\\n Currently Offering: 75% Childcare Discount \\n\\n We're hiring immediately!  Cadence Academy Preschool, part of the Cadence Education family, is currently seeking a Preschool Teacher Assistant to bring your love of children and past experience in childcare, daycare or early childhood education to our team of kind, caring Teachers and staff.  \\n\\n Our schools are staffed with people who are talented, fun, and genuinely enthusiastic about child development and learning. We encourage collaboration and cherish open-communication in each school and with our corporate office.  We work hard to create an outstanding work-life balance by supporting our staff members every step of the way.  \\n\\n Enjoy the many benefits of working at Cadence Education: \\n\\n+  Competitive compensation \\n\\n+  75% childcare tuition discount \\n\\n+  Educational and professional development \\n\\n+  Comprehensive benefit package for all full-time employees, including: \\n\\n+  Paid time off that increases with seniority \\n\\n+  Medical, dental, vision options available \\n\\n+  Additional life, disability, and retirement plans \\n\\n+  Tuition reimbursement \\n\\n+  Company-paid life insurance \\n\\n+  Paid holidays \\n\\n SAFETY FIRST: The health and safety of every person in our schools is our primary concern. We are taking every precaution to prevent potential exposure or spread of COVID-19 within our schools. We are actively partnering with local health departments and closely following guidelines from the Centers for Disease Control and Prevention. \\n\\n Cadence Education is one of the premier early childhood educators in the United States, operating over 275 private preschools and elementary schools across 30 states. With over 29 years in business, we have developed an unparalleled expertise in preparing students to thrive in the next step of their childhood. \\n\\n Our overall mission is to provide parents with peace of mind by giving children an exceptional education every fun-filled day in a place as nurturing as home. This mission can only be accomplished through a team of passionate childcare professionals who combine their talents to provide an unparalleled level of care and compassion for children and their families. Our research-based curriculum and home-based environments are the leading edge of early education. \\n\\nCompany Overview\\n\\n  Preschool Teacher Assistant Qualifications  \\n\\n+  High school diploma or equivalent \\n\\n+  Must be at least 18 years old \\n\\n+  Must meet all state preschool teacher assistant requirements \\n\\n+  High level of flexibility and willingness to work within business hours \\n\\n+  Previous experience as a teacher assistant or in a licensed daycare preferred \\n\\n  Preschool Teacher Assistant Job Responsibilities: \\n\\n A Preschool Teacher Assistant will accept the philosophy of Cadence Education and will work as part of the teaching team to encourage a positive learning environment for all children within the center. Document and share with parents the important milestones in a child's day. Collaborate with other passionate preschool teachers and leaders to implement an engaging and developmentally appropriate curriculum. Respect and observe children's interests. Intervene when needed to maintain safety. Enhance children's play with language, toys, and activities. Encourage and model social behavior and expectations which are developmentally appropriate. Share ideas in planning a daily schedule which provides a balance of activities: quiet/active, indoor/outdoor, fine/gross motor, etc. \\n\\n Cadence Education is an Equal Opportunity Employer. \\n\\nSchool Name 860 - Fredericksburg \\n\\nID 2023-29253 \\n\\nCategory Teacher and School Staff \\n\\nPosition Type Regular Part-Time  \n",
      "--------------------------------------------------\n",
      "\n",
      "Job Posting 5:\n",
      "***HIRING EVENT*** ALL POSITIONS\\n\\nWHERE:Ted's Montana Grill - 400 Union Street, Suite A104, Westborough, MA 01581\\n\\nWHEN: Tuesday, May 16 from 9 a.m. - 5 p.m. Wednesday, May 17 from 9 a.m. - 3 p.m.\\n\\nTed's will conduct in-person interviews at the event. Interested candidates can fill out an application at the hiring event or in advance at\\n\\n ( \\n\\n SERVER ASSISTANTS (HOSTS) - HIRING IMMEDIATELY \\n\\n Ted's Montana Grill isn't your ordinary restaurant, so we aren't looking for ordinary people. While we're Premium, Polished and Professional, we're also Cool (known as 3 PC). We live by The Big Sky Spirit which is our cultural compass and is evident in everything that we do. \\n\\nPay Rate: $15/hour\\n\\n GENUINE HOSPITALITY IS IN OUR DNA:   At Ted's Montana Grill, the Server Assistants are vital and valued members of our team and deliver the Big Sky Moments to ensure a great Guest experience each and every time. You will help create an atmosphere of genuine hospitality, ensuring a remarkable only-at-Ted's experience for our Guests. \\n\\n WHY WORK FOR TED'S? \\n\\n  A strong PPA that generates GREAT tips! \\n\\n  Flexible schedules \\n\\n  Medical benefits \\n\\n  401(k) plan with matching \\n\\n  Scratch kitchen & no microwaves - be proud of where you work and the food you serve! \\n\\n  Career advancement opportunities - half of our managers started as Team Members \\n\\n To help promote family and quality of life for our teams, Ted's Montana Grill closes our restaurants on July 4th, Thanksgiving, Christmas Eve and Christmas Day. \\n\\n REQUIREMENTS \\n\\n  Full-service restaurant experience preferred \\n\\n  Strong communication skills \\n\\n  Gets along great with people! \\n\\n We invite you to become part of the team by applying today! \\n\\n Ted's Montana Grill is proud to be an Equal Opportunity and e-Verify employer. \\n\\nHOSPITALITY\\n\\nWe take great pride in ensuring all guests receive a warm and memorable experience leaving them feeling better than when they came in. From a bowl of half sours to our two-dollar bills, we empower each team member to deliver Big Sky Moments in ways that are natural and effortless to Ted's and our guests.\\n\\nTHE EXPERIENCE\\n\\nOur restaurants represent classic saloons of the 19th century where cattlemen and land barons found a little relaxation after a hard day's work.\\n\\nSUSTAINABILITY\\n\\nWe believe in leaving a better world for future generations. You'll see this in our commitment to local growers, the paper straws, the Boraxo soap in our restrooms and sustainable choices in our kitchen operations.\\n\\nWe are steadfast in our commitment to people, product and prosperity. Ted's Montana Grill develops and encourages people to become leaders and engage the hearts and minds of our teams.\\n\\nAbout Us\\n\\n Our co-founders Ted Turner and George W. McKerrow imagined a restaurant where friends and family could sit down to an experience founded on the ideals that have made our country great. Where important ingredients like simplicity, honesty and authenticity would create classic American dishes.  \n",
      "--------------------------------------------------\n",
      "\n",
      "Job Posting 6:\n",
      "About Seminole Hard Rock Hotel & Casino Hollywood\\n\\nSeminole Hard Rock Hotel & Casino Hollywood is the flagship casino resort of Hard Rock International, owned by the Seminole Tribe of Florida. This world-renowned entertainment, gaming and hospitality destination unveiled a $1.5 billion expansion on Oct. 24, 2019.  New offerings include 638 upscale guestrooms in the first-ever Guitar Hotel, 168 luxury guestrooms and unique swim-up suites in the adjacent Oasis Tower at Seminole Hard Rock Hotel & Casino Hollywood, and 465 newly redesigned guestrooms in Hard Rock Hotel for a combined room count of 1,271 throughout the resort. Additional  amenities include the lush, Bora Bora style lagoon with private cabanas and butler service; a 42,000 square-foot Rock Spa & Salon; a 13.5-acre recreational water experience for swimming, kayaking and paddle boarding; 19 dining outlets and 20 bars and lounges; an expansive gaming floor with 3,100 slots, 195 table games and a 45-table poker room; 120,000 square feet of premier meeting and convention space including a 38,000 square-foot, carpeted exhibition hall; and a 26,000 square-foot retail promenade. The highly anticipated Hard Rock Live entertainment venue with a 7,000-person capacity, will showcase A-list entertainers, comedy acts, Broadway performances, sporting events and live broadcast productions. The integrated resort is located on 87 acres of the Hollywood Seminole Reservation along State Road 7 (U.S. Highway 441), and is 10 minutes from Fort Lauderdale/Hollywood International Airport and 30 minutes from downtown Miami and Miami International Airport. For more information, visit us online at www.seminolehardrockhollywood.com, call 800-937-0010 or follow us: Facebook: SeminoleHardRockHollywood, Twitter: @HardRockHolly, Instagram: @HardRockHolly.\\n\\nBenefits & Perks:\\n\\nWe offer rockin' benefits that include Medical, Dental, Vision & Life Insurances, 401K, Paid time off, Annual Bonus Opportunity & much more! Please visit  to see our full list of benefits! \\n\\nUnder the direction of the Executive Housekeeper, the incumbent is responsible for managing work activities of shift managers and cleaning personnel to ensure a clean, sanitary, and attractive casino environment of the Public Space Department.\\n\\nEssential Job Functions: \\n\\n+ Exhibit conduct in accordance with all Gaming Commission Regulations and Seminole Tribe of Florida departmental policies and procedures.\\n\\n+ Assigns team member duties and inspects work for conformance to standards of cleanliness.\\n\\n+ Controls supply and equipment use.\\n\\n+ Investigates complaints regarding cleaning and takes corrective action.\\n\\n+ Inspects all public areas and offices to determine need for repairs or replacement of furniture or equipment, and makes recommendations to administration.\\n\\n+ Conducts orientation of new team members and on-going in-service training of staff to explain company policies, work procedures, use and maintenance of supplies and equipment, and guest service skills.\\n\\n+ Attends training seminars to enhance management and supervisory skills, cleaning techniques and procedures, and enhance productivity.\\n\\n+ Develop department members' knowledge and skills through education, training, coaching, corrective counseling, etc.\\n\\n+ Demonstrate a commitment to ensuring responsible gaming and responsible alcohol service by discreetly notifying appropriate management of concerns and observations.\\n\\n+ Demonstrate commitment to assisting in the development of Seminole Tribe members participating in the Tribal Career Development program and, when a Seminole Tribe member's assignment falls within your direct area of responsibility, act as a personal mentor/career advisor to the Tribe Member and submit progress reports and information to the Director of Tribal Development.\\n\\n+ Demonstrate actions and behaviors that reinforce the Company's Mission and Values of Communication, Integrity, Fun, Respect, Accountability, Passion and Dedication.\\n\\n+ Ensure prompt and discreet notification to appropriate management and/or the Ethics Hotline of any observation of illegal acts or internal ethics violations.\\n\\n+ Stays abreast of the current trends and practices within area of responsibility and communicates pertinent information to management, peers, direct reports and team members as appropriate.\\n\\n+ Perform other duties as assigned.\\n\\nHigh School diploma or equivalent required and three (3) years of experience in a managerial capacity overseeing a large number of public space/environmental services staff.  Must have a minimum of three (3) years of experience in Casino housekeeping. \\n\\nWork Environment:\\n\\n+ While performing the duties of this job, the employee is frequently required to stand; walk; use hands to finger, handle, or feel; reach with hands and arms, talk or hear; and taste or smell. The employee must frequently lift and/or move up to 50 pounds. Specific vision abilities required by this job include close, distance, color, and peripheral vision, depth perception and ability to adjust focus.\\n\\n+ The work environment characteristics described here are representative of those an employee encounters while performing the essential functions of this job.\\n\\n+ The Casino environment is hectic, fast-paced and often crowded and noisy. May be exposed to casino related environmental factors including, but not limited to, second hand smoke, excessive noise and constant exposure to general public. \\n\\n+ Must be able to communicate effectively with guests in English, specific to position duties and responsibilities.\\n\\nClosing:\\n\\nThe Tribal Council gives preference in all of its employment practices to Native Americans. First preference in hiring, training, promoting and in all other aspects of employment is given to members of the Seminole Tribe who meet the job requirements. Second preference is given to members of other federally recognized Native American Tribes who meet the job requirements.\\n\\nAs part of Seminole Gaming's employment process, final candidates will be required to obtain gaming licensure by completing a background check with Seminole Gaming Compliance and Regulations, prior to an offer being extended. These background checks may include, but are not limited to:\\n\\n+ Credit Check\\n\\n+ Criminal Background Check\\n\\n+ Drug Screen    \\n\\n#ProfHotJobs\\n\\nDisclaimer\\n\\n While this is intended to be an accurate reflection of the current job, management reserves the right to revise the current job or to require that other or different tasks be performed when circumstances change, (e.g. emergencies, changes in personnel, workload, rush jobs or technical developments).\\n\\nShift: Varies \\n\\nRequisition ID: 2023-48585 \\n\\nExternal Company URL:  \\n\\nStreet: 1 Seminole Way  \n",
      "--------------------------------------------------\n",
      "\n",
      "Job Posting 7:\n",
      "Clears cleans and sets tables in a restaurant setting.\\n\\nQUALIFICATIONS:\\n\\n+ Typically requires a high school diploma and 0 to 2 years of experience.\\n\\n+ Performs work under direct supervision.\\n\\n+ Handles basic issues and problems and refers more complex issues to higher-level staff.\\n\\n+ Possesses beginning to working knowledge of subject matter.\\n\\n+ Clerical skills. Organizational skills. Oral communication skills. Customer/client orientation.\\n\\nRESPONSIBILITIES:\\n\\n+ Clears dish or glassware from tables during service.\\n\\n+ Cleans and sets tables in between guests.\\n\\n+ Maintains cleanliness of the dining area.\\n\\n+ Stocks service areas and assists waitstaff as needed.\\n\\n+ May be expected to assist with dishwashing.\\n\\nBe a part of the South's most iconic hotel in the heart of the most legendary city. Known for our personalized and genuine service, Windsor Court's diverse family of service professionals lead by caring for others and caring for each other. We are looking for dynamic and passionate individuals who are committed to growing their career in luxury hospitality and being great stewards for the city of New Orleans.\\n\\nSurrounded by a city chock full of history, Windsor Court Hotel invites travelers to make their own memories just steps from the French Quarter. From romance to relaxation to traditional New Orleans celebrations, guests will find the best of all worlds at our award-winning hotel. Rich in style and French-inspired dcor, our elegant retreat embraces the spirit and hospitality of the city while staying loyal to the luxury guests love. \\n\\nEarning four diamonds from AAA and four stars from Forbes, our New Orleans hotel is determined to stay distinguished, just like the city itself. Whether guests are looking to spend their days in the French Quarter or Central Business District - each within walking distance of our front doors - or prefer to lose track of time taking in views from our rooftop pool and exploring our art collection, we'll turn your vacation fantasies into your fondest lifelong memories. Top  adventures off with a trip to our spa followed by some sipping and savoring at our award-winning restaurants, lounges and tea room and visitors will start to see why just one stay at Windsor Court Hotel isn't enough. \\n\\nAs the global leader in third-party hotel management, our growing portfolio represents over 1,550 hotels in all 50 states and 22 countries, from top international lodging brands to luxury hotels, destination resorts and lifestyle hotels. Our associates around the globe are passionate about serving our guests and driving exceptional results, and thrive in a culture where everyone is inspired to be the best. Join a world of possibility with Aimbridge Hospitality.\\n\\nAfter an initial waiting period, those hired into full time positions are eligible for a competitive benefits package that includes the following:\\n\\n+ Medical, Dental, and Vision Coverage\\n\\n+ Short-Term and Long-Term Disability Income\\n\\n+ Term Life and AD&D Insurance\\n\\n+ Paid Time Off \\n\\n+ Employee Assistance Program\\n\\n+ 401k Retirement Plan\\n\\nJob ID: 2023-223851 \\n\\nFull-Time/Part-Time: Full-Time \\n\\nStreet: 300 Gravier St  \n",
      "--------------------------------------------------\n",
      "\n",
      "Job Posting 8:\n",
      "- Instructional Assistant - Engineering Math - Traditional Campus - College of Science, Engineering and Technology job in Phoenix, AZ with Grand Canyon University                      \\n\\n+   Search All Jobs \\n\\n+  Careers Home \\n\\n+  Faculty Jobs \\n\\n+  Staff Jobs \\n\\n+  Admissions/Counseling Jobs \\n\\n+  Student Worker Jobs \\n\\n+  All Jobs \\n\\n+  Careers Home \\n\\n+  Career Paths  \\n\\n+  Faculty Jobs \\n\\n+  Staff Jobs \\n\\n+  Admissions/Counseling Jobs \\n\\n+  Student Worker Jobs \\n\\n+  Return to GCU Home \\n\\n- Instructional Assistant - Engineering Math - Traditional Campus - College of Science, Engineering and Technology\\n\\n Click Here to \\n\\n Apply Online \\n\\nJob Description\\n\\nMake a Difference at Grand Canyon University\\n\\nShape the bright futures of Grand Canyon University students as an Instructional Assistant for the traditional ground campus in the  College of Science, Engineering and Technology  (  .  Through hands-on, inquiry-based learning, the college provides an outlet for innovation and cross-disciplinary exposure. It also features pre-professional degrees in biology, alongside our degrees in information systems, and a forensic science and exercise science program.\\n\\n This is a face-to-face part time opportunity. MUST be available to come to the main campus. \\n\\nResponsibilities: \\n\\nResponsibilities include equipping students with the required skill set, facilitating classroom discussions, assessing student performance and preparing students to be successful leaders in their chosen profession.  Other main responsibilities include the following:\\n\\n+ Responsibilities include equipping students with the required skill set, facilitating classroom discussions, assessing student performance and preparing students to be successful leaders in their chosen profession. \\n\\n+ Assists instruction with in-class activities, including proctoring examinations.\\n\\n+ Observes students' performance, and records relevant data to aid instructor in assessing progress\\n\\n+ Coordinates study groups outside of class to tutor students on class material\\n\\n+ May facilitate additional ad hoc lectures as a refresher to classroom formal lecture\\n\\n+ Assists with grading assignments\\n\\n+ Proctors occasional make up examinations/assignments\\n\\n+ Provide a positive example to students by supporting the University's Doctrinal Statement, Ethical Position Statement and Mission of Grand Canyon University.\\n\\nQualifications:\\n\\n+ Bachelor's degree from accredited institution.\\n\\n+ Must have sufficient courses in engineering discipline, applied mathematics or statistics,  as well as having received a grade of B or higher in these courses.\\n\\n+ Provide a positive example to students by supporting the University's Doctrinal Statement, Ethical Position Statement and Mission of Grand Canyon University.\\n\\nInterested in GCU Faculty and Adjunct positions, but can't find a position that's right for you? \\n\\nSubmit your resume to our Faculty Jobs Talent Community to be considered for future opportunities.  Visit the Faculty Jobs (  page on the GCU Career Site and scroll down to join the Talent Community. \\n\\nApplication Instructions\\n\\nPlease click on the link below to apply for this position. A new window will open and direct you to apply at our corporate careers page. We look forward to hearing from you!\\n\\n   Apply Online \\n\\n Click Here to \\n\\n Apply Online \\n\\nShare this Job\\n\\nX\\n\\nShare This Page\\n\\n- Instructional Assistant - Engineering Math - Traditional Campus - College of Science, Engineering and Technology\\n\\n Share link. Copy this URL:  \\n\\nEmail Direct\\n\\nRecipient's email address*\\n\\nYour email address*\\n\\nAdditional note (optional)\\n\\nYour email has been sent!\\n\\nSend another message | Close this window\\n\\n Phoenix, AZ \\n\\nPosted:  5/4/2023 \\n\\nJob Status:  Part Time \\n\\nJob Reference #: R000047117  \n",
      "--------------------------------------------------\n",
      "\n",
      "Job Posting 9:\n",
      "Who We Are: Founded in 2007, SimIS Inc. is an innovative information technology solution Veteran Owned Small Business (VOSB) that models future environments, requirements and capabilities, and then secures the enterprise from internal and external threats compliant with Federal, State, and industry standard governance to ensure client mission success. Our performance standard is excellence, with an outcomes-based, quality focus in our services and products, guided by our core values of honesty (in word and deed), relationships (confidence and trust with clients and partners), teamwork (shared goals, mission and purpose), loyalty (allegiance to our client and team), and importance of others (work and win as a team).  \\n\\n Responsibilities  \\n\\n SimIS, Inc. is seeking a driven and detail-oriented Marketing/Proposal Assistant to support marketing and business development activities  \\n\\n The position will be based in Portsmouth, VA, reports to the Business Development/Proposals Manager, and serves as an integral part of our Business Development and Marketing team  \\n\\n The Marketing/Proposal Assistant will assist the Business Development/Proposals Manager with capture efforts and proposal teams in the planning, development, and completion of assigned capture efforts, including development of capture plans, market intelligence, proposal outlines, schedules, assignments, creative presentations, graphics and themes related to SimIS' core business areas  \\n\\n In support of the Business Development/Proposals Manager, assist in the preparation of proposals and qualification documents: \\n\\n+ All phases of the proposal process from kick-off meeting to production and delivery - preparing schedules, collecting data and coordinating team meetings as appropriate \\n\\n+ Coordinate with Corporate Marketing Group for large/complex proposals as required \\n\\n+ Work with technical staff to analyze and evaluate RFPs \\n\\n+ Development of proposal outlines, formats, graphics and styles \\n\\n+ Preparation of sections of proposals, including but not limited to project descriptions and resumes, tailored for specific proposal \\n\\n+ Work with subject matter experts to develop proposal content \\n\\n+ Compile metrics, statistics, and other data needed for specific proposals \\n\\n+ Proposal production (typing, graphics, technical editing and reproduction), printing, and delivery, with emphasis on quality assurance/quality control  \\n\\n Statements of qualifications (SOQs), brochures, and other marketing material  \\n\\n Assist technical leads with oral presentation preparation, presentation materials, posters, etc  \\n\\n Support the Business Development/Proposals Manager in the preparation of corporate presentations  \\n\\n Assist the Business Development/Proposals Manager with market research in connection with current and prospective markets and clients  \\n\\n Support the Business Development/Proposals Manager in the production and inventorying of trade show materials and coordinate shipment of trade show-related materials to regional offices and shows  \\n\\n Participation in trade shows may be required  \\n\\n Participate in the development and maintenance of the unit business development content repository (SharePoint), ensuring content is current and accurate  \\n\\n Assist in the review and production of new information for the following: \\n\\n+ Small Business teaming history and agreements \\n\\n+ Oral Presentations, Q&A during orals, and Debrief Notes  \\n\\n Contribute to internal and external corporate communications  \\n\\n Provide technical editing/proofreading of proposals for quality assurance  \\n\\n Communicate ideas and instructions clearly and concisely  \\n\\n Qualifications  \\n\\n Six months to a year at minimum of Business Development/Proposal related work experience  \\n\\n EDUCATION and/or EXPERIENCE: Pursuing or obtained a A.A., B.A., B.S. in Business, Marketing, Communications, or related field  \\n\\n Ability to assist in writing sections of technical proposals and qualification documents  \\n\\n Proficiency in the use of Word, Excel, Power Point, Outlook  \\n\\n Ability to work on multiple schedule driven projects simultaneously  \\n\\n Ability to effectively communicate with management, technical, graphics, and support personnel  \\n\\n Knowledge of techniques and methods of planning, organizing and writing various types of proposals, client account plans, and marketing-related materials  \\n\\n Should possess skills in technical report writing, presentation and document formatting techniques, as well as computer use in a mobile, connected environment  \\n\\n Individual should demonstrate an ability to coordinate with other staff, peers, departments, officials, agencies, organizations, and the public  \\n\\n Must have skills to research, compose, review, illustrate, and edit technical documents, materials, and reports  \\n\\n Strong skills in organization, time management and prioritization  \\n\\n BENEFITS:  \\n\\n+  Medical, Dental, and Vision \\n\\n+  Short Term Disability (SimIS provides Short-Term Disability benefits at no cost to you) \\n\\n+  Life Insurance \\n\\n+  401(k) Savings Plan \\n\\n+  Tuition Assistance Program \\n\\n+  Paid Time Off (PTO) \\n\\n+  11 Holidays each year \\n\\n+  SimIS, Inc. is an AA / EOE / M / F / Disability / VET / Drug Free Employer \\n\\nPowered by JazzHR  \n",
      "--------------------------------------------------\n",
      "\n",
      "Job Posting 10:\n",
      "+  Assist with students; \\n\\n+  Sorts, date stamps and distributes mail and packages; \\n\\n+  Provide Clerical support to Main Office as needed \\n\\n+  Responsibilities may include greeting visitors and students; answering phones and giving out routine information; \\n\\n+  Communication and organizational skills is required; \\n\\n+  Knowledge of Microsoft Office Products, and EXCEL preferred \\n\\n+  Various other clerical duties as needed \\n\\nJob Qualifications\\n\\n Any candidate with Clerical Assistant Civil Service status may apply. In the event a Clerical Assistant list does not exist, the successful candidate will be appointed provisionally.  Candidate will be required to subsequently pass the Clerical Assistant Civil Service exam and be reachable on the Civil Service certified list.  \\n\\nPosition Start Date:09/01/2023\\n\\nApplication Deadline:05/24/2023\\n\\nJob Number: 206  \n",
      "--------------------------------------------------\n",
      "\n"
     ]
    }
   ],
   "source": [
    "# Print the job descriptions\n",
    "for index, description in enumerate(job_descriptions, start=1):\n",
    "  print(f\"Job Posting {index}:\\n{description}\\n{'-'*50}\\n\")"
   ]
  },
  {
   "cell_type": "code",
   "execution_count": null,
   "id": "9a2509ff-873e-4734-a071-2ffea7d90735",
   "metadata": {},
   "outputs": [],
   "source": []
  }
 ],
 "metadata": {
  "kernelspec": {
   "display_name": "Python 3 (ipykernel)",
   "language": "python",
   "name": "python3"
  },
  "language_info": {
   "codemirror_mode": {
    "name": "ipython",
    "version": 3
   },
   "file_extension": ".py",
   "mimetype": "text/x-python",
   "name": "python",
   "nbconvert_exporter": "python",
   "pygments_lexer": "ipython3",
   "version": "3.8.10"
  }
 },
 "nbformat": 4,
 "nbformat_minor": 5
}
